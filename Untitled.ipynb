{
 "cells": [
  {
   "cell_type": "code",
   "execution_count": 1,
   "id": "b5aa0802-4242-4316-ac24-66113aec902a",
   "metadata": {},
   "outputs": [
    {
     "name": "stderr",
     "output_type": "stream",
     "text": [
      "ERROR: Could not find a version that satisfies the requirement tkinter (from versions: none)\n",
      "\n",
      "[notice] A new release of pip is available: 24.2 -> 25.0.1\n",
      "[notice] To update, run: python.exe -m pip install --upgrade pip\n",
      "ERROR: No matching distribution found for tkinter\n"
     ]
    }
   ],
   "source": [
    "!pip install tkinter"
   ]
  },
  {
   "cell_type": "code",
   "execution_count": 2,
   "id": "fda41582-38c8-495c-9c2e-f673f345d8bb",
   "metadata": {},
   "outputs": [
    {
     "name": "stdout",
     "output_type": "stream",
     "text": [
      "Collecting ipywidgets\n",
      "  Downloading ipywidgets-8.1.5-py3-none-any.whl.metadata (2.3 kB)\n",
      "Requirement already satisfied: comm>=0.1.3 in c:\\users\\mis\\appdata\\local\\programs\\python\\python313\\lib\\site-packages (from ipywidgets) (0.2.2)\n",
      "Requirement already satisfied: ipython>=6.1.0 in c:\\users\\mis\\appdata\\local\\programs\\python\\python313\\lib\\site-packages (from ipywidgets) (8.31.0)\n",
      "Requirement already satisfied: traitlets>=4.3.1 in c:\\users\\mis\\appdata\\local\\programs\\python\\python313\\lib\\site-packages (from ipywidgets) (5.14.3)\n",
      "Collecting widgetsnbextension~=4.0.12 (from ipywidgets)\n",
      "  Downloading widgetsnbextension-4.0.13-py3-none-any.whl.metadata (1.6 kB)\n",
      "Collecting jupyterlab-widgets~=3.0.12 (from ipywidgets)\n",
      "  Downloading jupyterlab_widgets-3.0.13-py3-none-any.whl.metadata (4.1 kB)\n",
      "Requirement already satisfied: colorama in c:\\users\\mis\\appdata\\local\\programs\\python\\python313\\lib\\site-packages (from ipython>=6.1.0->ipywidgets) (0.4.6)\n",
      "Requirement already satisfied: decorator in c:\\users\\mis\\appdata\\local\\programs\\python\\python313\\lib\\site-packages (from ipython>=6.1.0->ipywidgets) (5.1.1)\n",
      "Requirement already satisfied: jedi>=0.16 in c:\\users\\mis\\appdata\\local\\programs\\python\\python313\\lib\\site-packages (from ipython>=6.1.0->ipywidgets) (0.19.2)\n",
      "Requirement already satisfied: matplotlib-inline in c:\\users\\mis\\appdata\\local\\programs\\python\\python313\\lib\\site-packages (from ipython>=6.1.0->ipywidgets) (0.1.7)\n",
      "Requirement already satisfied: prompt_toolkit<3.1.0,>=3.0.41 in c:\\users\\mis\\appdata\\local\\programs\\python\\python313\\lib\\site-packages (from ipython>=6.1.0->ipywidgets) (3.0.49)\n",
      "Requirement already satisfied: pygments>=2.4.0 in c:\\users\\mis\\appdata\\local\\programs\\python\\python313\\lib\\site-packages (from ipython>=6.1.0->ipywidgets) (2.19.1)\n",
      "Requirement already satisfied: stack_data in c:\\users\\mis\\appdata\\local\\programs\\python\\python313\\lib\\site-packages (from ipython>=6.1.0->ipywidgets) (0.6.3)\n",
      "Requirement already satisfied: parso<0.9.0,>=0.8.4 in c:\\users\\mis\\appdata\\local\\programs\\python\\python313\\lib\\site-packages (from jedi>=0.16->ipython>=6.1.0->ipywidgets) (0.8.4)\n",
      "Requirement already satisfied: wcwidth in c:\\users\\mis\\appdata\\local\\programs\\python\\python313\\lib\\site-packages (from prompt_toolkit<3.1.0,>=3.0.41->ipython>=6.1.0->ipywidgets) (0.2.13)\n",
      "Requirement already satisfied: executing>=1.2.0 in c:\\users\\mis\\appdata\\local\\programs\\python\\python313\\lib\\site-packages (from stack_data->ipython>=6.1.0->ipywidgets) (2.1.0)\n",
      "Requirement already satisfied: asttokens>=2.1.0 in c:\\users\\mis\\appdata\\local\\programs\\python\\python313\\lib\\site-packages (from stack_data->ipython>=6.1.0->ipywidgets) (3.0.0)\n",
      "Requirement already satisfied: pure-eval in c:\\users\\mis\\appdata\\local\\programs\\python\\python313\\lib\\site-packages (from stack_data->ipython>=6.1.0->ipywidgets) (0.2.3)\n",
      "Downloading ipywidgets-8.1.5-py3-none-any.whl (139 kB)\n",
      "Downloading jupyterlab_widgets-3.0.13-py3-none-any.whl (214 kB)\n",
      "Downloading widgetsnbextension-4.0.13-py3-none-any.whl (2.3 MB)\n",
      "   ---------------------------------------- 0.0/2.3 MB ? eta -:--:--\n",
      "   ---------------------------------------- 2.3/2.3 MB 14.4 MB/s eta 0:00:00\n",
      "Installing collected packages: widgetsnbextension, jupyterlab-widgets, ipywidgets\n",
      "Successfully installed ipywidgets-8.1.5 jupyterlab-widgets-3.0.13 widgetsnbextension-4.0.13\n"
     ]
    },
    {
     "name": "stderr",
     "output_type": "stream",
     "text": [
      "\n",
      "[notice] A new release of pip is available: 24.2 -> 25.0.1\n",
      "[notice] To update, run: python.exe -m pip install --upgrade pip\n"
     ]
    }
   ],
   "source": [
    "!pip install ipywidgets"
   ]
  },
  {
   "cell_type": "code",
   "execution_count": 3,
   "id": "9091c9be-e0a7-4b28-b2da-111815c05304",
   "metadata": {},
   "outputs": [
    {
     "data": {
      "application/vnd.jupyter.widget-view+json": {
       "model_id": "84251fc24e4e4dfa9ab21c685ce752ed",
       "version_major": 2,
       "version_minor": 0
      },
      "text/plain": [
       "Button(description='Test Button', style=ButtonStyle())"
      ]
     },
     "execution_count": 3,
     "metadata": {},
     "output_type": "execute_result"
    }
   ],
   "source": [
    "import ipywidgets as widgets\n",
    "widgets.Button(description=\"Test Button\")\n"
   ]
  },
  {
   "cell_type": "code",
   "execution_count": 4,
   "id": "228f34a0-00b2-4d5f-a764-460d2d07c1ef",
   "metadata": {},
   "outputs": [
    {
     "ename": "SyntaxError",
     "evalue": "invalid syntax (629580002.py, line 1)",
     "output_type": "error",
     "traceback": [
      "\u001b[1;36m  Cell \u001b[1;32mIn[4], line 1\u001b[1;36m\u001b[0m\n\u001b[1;33m    jupyter nbextension enable --py widgetsnbextension\u001b[0m\n\u001b[1;37m            ^\u001b[0m\n\u001b[1;31mSyntaxError\u001b[0m\u001b[1;31m:\u001b[0m invalid syntax\n"
     ]
    }
   ],
   "source": [
    "jupyter nbextension enable --py widgetsnbextension\n"
   ]
  },
  {
   "cell_type": "code",
   "execution_count": 5,
   "id": "86d22da9-55ec-4999-80fe-3c5a614db742",
   "metadata": {},
   "outputs": [
    {
     "name": "stdout",
     "output_type": "stream",
     "text": [
      "8.1.5\n"
     ]
    }
   ],
   "source": [
    "print(widgets.__version__)"
   ]
  },
  {
   "cell_type": "code",
   "execution_count": 2,
   "id": "e45803f3-f47c-4282-b9ae-51a82860ca57",
   "metadata": {},
   "outputs": [],
   "source": [
    "def sq(x):\n",
    "    return x*x"
   ]
  },
  {
   "cell_type": "code",
   "execution_count": 3,
   "id": "e9aa76dc-de89-4904-8cf8-b70bec29c6bc",
   "metadata": {},
   "outputs": [
    {
     "data": {
      "application/vnd.jupyter.widget-view+json": {
       "model_id": "9dafad9ab5a146d5b38297a92e1201f0",
       "version_major": 2,
       "version_minor": 0
      },
      "text/plain": [
       "interactive(children=(IntSlider(value=5, description='x', max=15, min=-5), Output()), _dom_classes=('widget-in…"
      ]
     },
     "metadata": {},
     "output_type": "display_data"
    },
    {
     "data": {
      "text/plain": [
       "<function __main__.sq(x)>"
      ]
     },
     "execution_count": 3,
     "metadata": {},
     "output_type": "execute_result"
    }
   ],
   "source": [
    "from ipywidgets import interact\n",
    "interact(sq,x=5)"
   ]
  },
  {
   "cell_type": "code",
   "execution_count": 3,
   "id": "0c96f6fa-b4c5-4475-b8ac-ad86f78d4f55",
   "metadata": {},
   "outputs": [
    {
     "data": {
      "application/vnd.jupyter.widget-view+json": {
       "model_id": "1e4dab47a1d047659d59696f5718df3e",
       "version_major": 2,
       "version_minor": 0
      },
      "text/plain": [
       "Dropdown(description='Select Format:', options=('ODI', 'T20'), value='ODI')"
      ]
     },
     "metadata": {},
     "output_type": "display_data"
    },
    {
     "data": {
      "application/vnd.jupyter.widget-view+json": {
       "model_id": "8f77c247c7cf4dbe861e7d3e1ba00efe",
       "version_major": 2,
       "version_minor": 0
      },
      "text/plain": [
       "Dropdown(description='Select Player Type:', options=('Batters', 'Bowlers', 'Wicket Keepers'), value='Batters')"
      ]
     },
     "metadata": {},
     "output_type": "display_data"
    },
    {
     "data": {
      "application/vnd.jupyter.widget-view+json": {
       "model_id": "d00ea33804c04db1963c1ef999df00f5",
       "version_major": 2,
       "version_minor": 0
      },
      "text/plain": [
       "Dropdown(description='Batters Criteria:', layout=Layout(display='block'), options=('Runs', 'Batting Average', …"
      ]
     },
     "metadata": {},
     "output_type": "display_data"
    },
    {
     "data": {
      "application/vnd.jupyter.widget-view+json": {
       "model_id": "b1ca5274d70e46d8b3c7f71616ce3571",
       "version_major": 2,
       "version_minor": 0
      },
      "text/plain": [
       "Dropdown(description='Bowlers Criteria:', layout=Layout(display='none'), options=('Wickets', 'Bowling Average'…"
      ]
     },
     "metadata": {},
     "output_type": "display_data"
    },
    {
     "data": {
      "application/vnd.jupyter.widget-view+json": {
       "model_id": "361c0378602540de9f9bc6f7079d2ef3",
       "version_major": 2,
       "version_minor": 0
      },
      "text/plain": [
       "Dropdown(description='Wicket Keepers Criteria:', layout=Layout(display='none'), options=('Dismissals', 'Catche…"
      ]
     },
     "metadata": {},
     "output_type": "display_data"
    },
    {
     "data": {
      "application/vnd.jupyter.widget-view+json": {
       "model_id": "858f911b6eb640d3854b39bd3cfd154c",
       "version_major": 2,
       "version_minor": 0
      },
      "text/plain": [
       "Button(description='Display Top Players', style=ButtonStyle())"
      ]
     },
     "metadata": {},
     "output_type": "display_data"
    },
    {
     "data": {
      "application/vnd.jupyter.widget-view+json": {
       "model_id": "c516641885e54b29a420c4d0082aa09d",
       "version_major": 2,
       "version_minor": 0
      },
      "text/plain": [
       "Button(description='Plot Graph', style=ButtonStyle())"
      ]
     },
     "metadata": {},
     "output_type": "display_data"
    },
    {
     "data": {
      "application/vnd.jupyter.widget-view+json": {
       "model_id": "1bd7a7330cf44d08ad3db99757787872",
       "version_major": 2,
       "version_minor": 0
      },
      "text/plain": [
       "Output()"
      ]
     },
     "metadata": {},
     "output_type": "display_data"
    }
   ],
   "source": [
    "import pandas as pd\n",
    "import seaborn as sns\n",
    "import matplotlib.pyplot as plt\n",
    "import ipywidgets as widgets\n",
    "from IPython.display import display\n",
    "\n",
    "# Load ODI and T20 player data CSV files\n",
    "df_odi = pd.read_csv(\"batsman data odi.csv\")\n",
    "df_t20 = pd.read_csv(\"batsman data t20i.csv\")\n",
    "\n",
    "# Data Cleaning for both ODI and T20 datasets\n",
    "numeric_columns_batters = [\"Matches\", \"Played\", \"Not Outs\", \"Runs\", \"Batting Average\", \"Balls Faced\", \n",
    "                   \"Strike Rate\", \"Centuries\", \"Fifties\", \"Ducks\", \"Fours\", \"Sixes\"]\n",
    "\n",
    "for col in numeric_columns_batters:\n",
    "    df_odi[col] = pd.to_numeric(df_odi[col], errors=\"coerce\")\n",
    "    df_t20[col] = pd.to_numeric(df_t20[col], errors=\"coerce\")\n",
    "\n",
    "# Drop rows with missing data in important numeric columns\n",
    "df_odi_cleaned = df_odi.dropna(subset=numeric_columns_batters)\n",
    "df_t20_cleaned = df_t20.dropna(subset=numeric_columns_batters)\n",
    "\n",
    "# Create an Output widget\n",
    "output = widgets.Output()\n",
    "\n",
    "# Function to display top players based on selected criteria for Batters\n",
    "def display_top_players(criteria, player_type, min_matches=0):\n",
    "    with output:\n",
    "        output.clear_output()  # Clear previous output\n",
    "        \n",
    "        if player_type == 'Batters':\n",
    "            df_cleaned = df_odi_cleaned if format_dropdown.value == 'ODI' else df_t20_cleaned\n",
    "            if criteria == 'Runs':\n",
    "                top_players = df_cleaned[df_cleaned[\"Matches\"] >= min_matches].nlargest(10, \"Runs\")[[\"Player Name\", \"Country\", \"Runs\", \"Batting Average\", \"Strike Rate\"]]\n",
    "            elif criteria == 'Batting Average':\n",
    "                top_players = df_cleaned[df_cleaned[\"Matches\"] >= min_matches].nlargest(10, \"Batting Average\")[[\"Player Name\", \"Country\", \"Batting Average\", \"Matches\"]]\n",
    "            elif criteria == 'Strike Rate':\n",
    "                top_players = df_cleaned[df_cleaned[\"Matches\"] >= min_matches].nlargest(10, \"Strike Rate\")[[\"Player Name\", \"Country\", \"Strike Rate\", \"Runs\"]]\n",
    "            \n",
    "            print(f\"\\nTop 10 Batters by {criteria}:\")\n",
    "            print(top_players)\n",
    "        \n",
    "        elif player_type == 'Bowlers':\n",
    "            # Add bowler analysis logic here based on criteria selection\n",
    "            pass\n",
    "        \n",
    "        elif player_type == 'Wicket Keepers':\n",
    "            # Add wicket keeper analysis logic here based on criteria selection\n",
    "            pass\n",
    "\n",
    "# Function to plot graphs based on selected criteria\n",
    "def plot_graph(criteria, player_type):\n",
    "    with output:\n",
    "        output.clear_output()  # Clear previous output\n",
    "        plt.figure(figsize=(10, 6))\n",
    "        \n",
    "        if player_type == 'Batters':\n",
    "            df_cleaned = df_odi_cleaned if format_dropdown.value == 'ODI' else df_t20_cleaned\n",
    "            if criteria == 'Top Players by Runs':\n",
    "                top_run_scorers = df_cleaned.nlargest(10, \"Runs\")[[\"Player Name\", \"Runs\"]]\n",
    "                sns.barplot(x=\"Runs\", y=\"Player Name\", data=top_run_scorers, palette=\"Blues_d\")\n",
    "                plt.title(\"Top 10 Batters by Runs\")\n",
    "                plt.xlabel(\"Runs\")\n",
    "                plt.ylabel(\"Player Name\")\n",
    "            elif criteria == 'Strike Rate vs Runs':\n",
    "                sns.scatterplot(x=\"Runs\", y=\"Strike Rate\", data=df_cleaned, hue=\"Country\", palette=\"Set1\")\n",
    "                plt.title(\"Strike Rate vs Runs\")\n",
    "                plt.xlabel(\"Runs\")\n",
    "                plt.ylabel(\"Strike Rate\")\n",
    "            elif criteria == 'Distribution of Batting Averages':\n",
    "                sns.boxplot(data=df_cleaned[\"Batting Average\"], palette=\"Set2\")\n",
    "                plt.title(\"Distribution of Batting Averages\")\n",
    "        \n",
    "        # Add plotting logic for Bowlers and Wicket Keepers\n",
    "        plt.show()\n",
    "\n",
    "# Create dropdowns for format and player type\n",
    "format_dropdown = widgets.Dropdown(\n",
    "    options=['ODI', 'T20'],\n",
    "    description='Select Format:',\n",
    ")\n",
    "\n",
    "player_type_dropdown = widgets.Dropdown(\n",
    "    options=['Batters', 'Bowlers', 'Wicket Keepers'],\n",
    "    description='Select Player Type:',\n",
    ")\n",
    "\n",
    "# Create dropdowns for criteria based on player type\n",
    "batters_criteria_dropdown = widgets.Dropdown(\n",
    "    options=['Runs', 'Batting Average', 'Strike Rate'],\n",
    "    description='Batters Criteria:',\n",
    ")\n",
    "\n",
    "bowlers_criteria_dropdown = widgets.Dropdown(\n",
    "    options=['Wickets', 'Bowling Average', 'Economy Rate'],\n",
    "    description='Bowlers Criteria:',\n",
    ")\n",
    "\n",
    "wicket_keepers_criteria_dropdown = widgets.Dropdown(\n",
    "    options=['Dismissals', 'Catches', 'Stumpings'],\n",
    "    description='Wicket Keepers Criteria:',\n",
    ")\n",
    "\n",
    "# Function to update criteria dropdown based on player type selection\n",
    "def update_criteria_dropdown(*args):\n",
    "    if player_type_dropdown.value == 'Batters':\n",
    "        batters_criteria_dropdown.layout.display = 'block'\n",
    "        bowlers_criteria_dropdown.layout.display = 'none'\n",
    "        wicket_keepers_criteria_dropdown.layout.display = 'none'\n",
    "    elif player_type_dropdown.value == 'Bowlers':\n",
    "        batters_criteria_dropdown.layout.display = 'none'\n",
    "        bowlers_criteria_dropdown.layout.display = 'block'\n",
    "        wicket_keepers_criteria_dropdown.layout.display = 'none'\n",
    "    elif player_type_dropdown.value == 'Wicket Keepers':\n",
    "        batters_criteria_dropdown.layout.display = 'none'\n",
    "        bowlers_criteria_dropdown.layout.display = 'none'\n",
    "        wicket_keepers_criteria_dropdown.layout.display = 'block'\n",
    "\n",
    "# Set the event listener for player type dropdown change\n",
    "player_type_dropdown.observe(update_criteria_dropdown, names='value')\n",
    "\n",
    "# Initialize dropdown display states\n",
    "update_criteria_dropdown()\n",
    "\n",
    "# Create buttons to trigger actions\n",
    "display_button = widgets.Button(description=\"Display Top Players\")\n",
    "plot_button = widgets.Button(description=\"Plot Graph\")\n",
    "\n",
    "# Define button click events\n",
    "def on_display_button_clicked(b):\n",
    "    if player_type_dropdown.value == 'Batters':\n",
    "        display_top_players(batters_criteria_dropdown.value, 'Batters')\n",
    "    elif player_type_dropdown.value == 'Bowlers':\n",
    "        display_top_players(bowlers_criteria_dropdown.value, 'Bowlers')\n",
    "    elif player_type_dropdown.value == 'Wicket Keepers':\n",
    "        display_top_players(wicket_keepers_criteria_dropdown.value, 'Wicket Keepers')\n",
    "\n",
    "def on_plot_button_clicked(b):\n",
    "    if player_type_dropdown.value == 'Batters':\n",
    "        plot_graph(batters_criteria_dropdown.value, 'Batters')\n",
    "    elif player_type_dropdown.value == 'Bowlers':\n",
    "        plot_graph(bowlers_criteria_dropdown.value, 'Bowlers')\n",
    "    elif player_type_dropdown.value == 'Wicket Keepers':\n",
    "        plot_graph(wicket_keepers_criteria_dropdown.value, 'Wicket Keepers')\n",
    "\n",
    "# Link buttons to their functions\n",
    "display_button.on_click(on_display_button_clicked)\n",
    "plot_button.on_click(on_plot_button_clicked)\n",
    "\n",
    "# Display the widgets and output area\n",
    "display(format_dropdown, player_type_dropdown, batters_criteria_dropdown, bowlers_criteria_dropdown, wicket_keepers_criteria_dropdown)\n",
    "display(display_button, plot_button)\n",
    "display(output)  # Display the output area\n"
   ]
  },
  {
   "cell_type": "code",
   "execution_count": null,
   "id": "05112c76-04bd-473c-9b31-26d543f77d61",
   "metadata": {},
   "outputs": [],
   "source": []
  }
 ],
 "metadata": {
  "kernelspec": {
   "display_name": "Python 3 (ipykernel)",
   "language": "python",
   "name": "python3"
  },
  "language_info": {
   "codemirror_mode": {
    "name": "ipython",
    "version": 3
   },
   "file_extension": ".py",
   "mimetype": "text/x-python",
   "name": "python",
   "nbconvert_exporter": "python",
   "pygments_lexer": "ipython3",
   "version": "3.13.0"
  }
 },
 "nbformat": 4,
 "nbformat_minor": 5
}
