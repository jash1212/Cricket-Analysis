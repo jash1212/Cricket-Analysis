{
 "cells": [
  {
   "cell_type": "code",
   "execution_count": 2,
   "id": "c6032348-9e00-4838-a4a7-46b01e91ee06",
   "metadata": {
    "scrolled": true
   },
   "outputs": [
    {
     "data": {
      "application/vnd.jupyter.widget-view+json": {
       "model_id": "adad2f1c9352445e958b105213e3f6f7",
       "version_major": 2,
       "version_minor": 0
      },
      "text/plain": [
       "Dropdown(description='Select Format:', options=('ODI', 'T20'), value='ODI')"
      ]
     },
     "metadata": {},
     "output_type": "display_data"
    },
    {
     "data": {
      "application/vnd.jupyter.widget-view+json": {
       "model_id": "812b9b2d291b4e5f9a5c5d811d3e83dc",
       "version_major": 2,
       "version_minor": 0
      },
      "text/plain": [
       "Dropdown(description='Select Criteria:', options=('Runs', 'Batting Average', 'Strike Rate'), value='Runs')"
      ]
     },
     "metadata": {},
     "output_type": "display_data"
    },
    {
     "data": {
      "application/vnd.jupyter.widget-view+json": {
       "model_id": "aa514fe0c536439187cb3c6c78898745",
       "version_major": 2,
       "version_minor": 0
      },
      "text/plain": [
       "IntSlider(value=20, continuous_update=False, description='Min Matches:', max=30)"
      ]
     },
     "metadata": {},
     "output_type": "display_data"
    },
    {
     "data": {
      "application/vnd.jupyter.widget-view+json": {
       "model_id": "4a6f1ef8262845f9b0106219f6dab543",
       "version_major": 2,
       "version_minor": 0
      },
      "text/plain": [
       "Button(description='Display Top Players', style=ButtonStyle())"
      ]
     },
     "metadata": {},
     "output_type": "display_data"
    },
    {
     "data": {
      "application/vnd.jupyter.widget-view+json": {
       "model_id": "cff710b2e6c0431cb1ab3e694676582e",
       "version_major": 2,
       "version_minor": 0
      },
      "text/plain": [
       "Dropdown(description='Select Plot:', options=('Top Players by Runs', 'Strike Rate vs Runs', 'Distribution of B…"
      ]
     },
     "metadata": {},
     "output_type": "display_data"
    },
    {
     "data": {
      "application/vnd.jupyter.widget-view+json": {
       "model_id": "fdf2b3c60f7e40da861e507692c1f2aa",
       "version_major": 2,
       "version_minor": 0
      },
      "text/plain": [
       "Button(description='Plot Graph', style=ButtonStyle())"
      ]
     },
     "metadata": {},
     "output_type": "display_data"
    },
    {
     "data": {
      "application/vnd.jupyter.widget-view+json": {
       "model_id": "9c03c267cb6b4522906030a8905d26e8",
       "version_major": 2,
       "version_minor": 0
      },
      "text/plain": [
       "Output()"
      ]
     },
     "metadata": {},
     "output_type": "display_data"
    }
   ],
   "source": [
    "import pandas as pd\n",
    "import seaborn as sns\n",
    "import matplotlib.pyplot as plt\n",
    "import ipywidgets as widgets\n",
    "from IPython.display import display\n",
    "\n",
    "# Function to load the appropriate CSV based on format selection\n",
    "def load_data(format_selection):\n",
    "    if format_selection == \"ODI\":\n",
    "        return pd.read_csv(\"batsman data odi.csv\")\n",
    "    elif format_selection == \"T20\":\n",
    "        return pd.read_csv(\"batsman data t20.csv\")\n",
    "\n",
    "# Initial Load for default format (ODI)\n",
    "df = load_data(\"ODI\")\n",
    "\n",
    "# Data Cleaning Function\n",
    "def clean_data(df):\n",
    "    numeric_columns = [\"Matches\", \"Played\", \"Not Outs\", \"Runs\", \"Batting Average\", \"Balls Faced\", \n",
    "                       \"Strike Rate\", \"Centuries\", \"Fifties\", \"Ducks\", \"Fours\", \"Sixes\"]\n",
    "\n",
    "    for col in numeric_columns:\n",
    "        df[col] = pd.to_numeric(df[col], errors=\"coerce\")\n",
    "    \n",
    "    # Drop rows with missing data in important numeric columns\n",
    "    return df.dropna(subset=numeric_columns)\n",
    "\n",
    "# Clean the initial data\n",
    "df_cleaned = clean_data(df)\n",
    "\n",
    "# Create an Output widget\n",
    "output = widgets.Output()\n",
    "\n",
    "# Function to display top players based on selected criteria\n",
    "def display_top_players(criteria, min_matches=0):\n",
    "    with output:\n",
    "        output.clear_output()  # Clear previous output\n",
    "        if criteria == 'Runs':\n",
    "            top_players = df_cleaned[df_cleaned[\"Matches\"] >= min_matches].nlargest(10, \"Runs\")[[\"Player Name\", \"Country\", \"Runs\", \"Batting Average\", \"Strike Rate\"]]\n",
    "        elif criteria == 'Batting Average':\n",
    "            top_players = df_cleaned[df_cleaned[\"Matches\"] >= min_matches].nlargest(10, \"Batting Average\")[[\"Player Name\", \"Country\", \"Batting Average\", \"Matches\"]]\n",
    "        elif criteria == 'Strike Rate':\n",
    "            top_players = df_cleaned[df_cleaned[\"Matches\"] >= min_matches].nlargest(10, \"Strike Rate\")[[\"Player Name\", \"Country\", \"Strike Rate\", \"Runs\"]]\n",
    "        \n",
    "        print(f\"\\nTop 10 Players by {criteria}:\")\n",
    "        print(top_players)\n",
    "\n",
    "# Function to plot graphs based on selected criteria\n",
    "def plot_graph(criteria):\n",
    "    with output:\n",
    "        output.clear_output()  # Clear previous output\n",
    "        plt.figure(figsize=(10, 6))\n",
    "        if criteria == 'Top Players by Runs':\n",
    "            top_run_scorers = df_cleaned.nlargest(10, \"Runs\")[[\"Player Name\", \"Runs\"]]\n",
    "            sns.barplot(x=\"Runs\", y=\"Player Name\", data=top_run_scorers, palette=\"Blues_d\")\n",
    "            plt.title(\"Top 10 Players by Runs\")\n",
    "            plt.xlabel(\"Runs\")\n",
    "            plt.ylabel(\"Player Name\")\n",
    "        elif criteria == 'Strike Rate vs Runs':\n",
    "            sns.scatterplot(x=\"Runs\", y=\"Strike Rate\", data=df_cleaned, hue=\"Country\", palette=\"Set1\")\n",
    "            plt.title(\"Strike Rate vs Runs\")\n",
    "            plt.xlabel(\"Runs\")\n",
    "            plt.ylabel(\"Strike Rate\")\n",
    "        elif criteria == 'Distribution of Batting Averages':\n",
    "            sns.boxplot(data=df_cleaned[\"Batting Average\"], palette=\"Set2\")\n",
    "            plt.title(\"Distribution of Batting Averages\")\n",
    "        \n",
    "        plt.show()\n",
    "\n",
    "# Update the data and analysis based on selected format (ODI or T20)\n",
    "def update_format(format_selection):\n",
    "    global df_cleaned\n",
    "    df = load_data(format_selection)\n",
    "    df_cleaned = clean_data(df)\n",
    "    with output:\n",
    "        output.clear_output()\n",
    "        print(f\"Data loaded for {format_selection} format\")\n",
    "\n",
    "# Create widgets\n",
    "format_dropdown = widgets.Dropdown(\n",
    "    options=['ODI', 'T20'],\n",
    "    description='Select Format:',\n",
    "    value='ODI'  # Default to ODI\n",
    ")\n",
    "\n",
    "criteria_dropdown = widgets.Dropdown(\n",
    "    options=['Runs', 'Batting Average', 'Strike Rate'],\n",
    "    description='Select Criteria:',\n",
    ")\n",
    "\n",
    "min_matches_slider = widgets.IntSlider(\n",
    "    value=20,\n",
    "    min=0,\n",
    "    max=30,\n",
    "    step=1,\n",
    "    description='Min Matches:',\n",
    "    continuous_update=False\n",
    ")\n",
    "\n",
    "plot_dropdown = widgets.Dropdown(\n",
    "    options=['Top Players by Runs', 'Strike Rate vs Runs', 'Distribution of Batting Averages'],\n",
    "    description='Select Plot:',\n",
    ")\n",
    "\n",
    "# Create buttons to trigger actions\n",
    "display_button = widgets.Button(description=\"Display Top Players\")\n",
    "plot_button = widgets.Button(description=\"Plot Graph\")\n",
    "\n",
    "# Define button click events\n",
    "def on_display_button_clicked(b):\n",
    "    display_top_players(criteria_dropdown.value, min_matches_slider.value)\n",
    "\n",
    "def on_plot_button_clicked(b):\n",
    "    plot_graph(plot_dropdown.value)\n",
    "\n",
    "# Define format change event\n",
    "def on_format_dropdown_change(change):\n",
    "    update_format(change['new'])\n",
    "\n",
    "# Link buttons and dropdown to their functions\n",
    "display_button.on_click(on_display_button_clicked)\n",
    "plot_button.on_click(on_plot_button_clicked)\n",
    "format_dropdown.observe(on_format_dropdown_change, names='value')\n",
    "\n",
    "# Display the widgets and output area\n",
    "display(format_dropdown)\n",
    "display(criteria_dropdown, min_matches_slider, display_button)\n",
    "display(plot_dropdown, plot_button)\n",
    "display(output)  # Display the output area\n"
   ]
  },
  {
   "cell_type": "code",
   "execution_count": 3,
   "id": "47215ac4-ef15-4ff5-9bff-262243fe4601",
   "metadata": {},
   "outputs": [
    {
     "data": {
      "application/vnd.jupyter.widget-view+json": {
       "model_id": "0e8da395a585460187e9d0ee4ff58b8e",
       "version_major": 2,
       "version_minor": 0
      },
      "text/plain": [
       "Dropdown(description='Select Format:', options=('ODI', 'T20'), value='ODI')"
      ]
     },
     "metadata": {},
     "output_type": "display_data"
    },
    {
     "data": {
      "application/vnd.jupyter.widget-view+json": {
       "model_id": "6d791ef555e34b05b0f3b070bdde2728",
       "version_major": 2,
       "version_minor": 0
      },
      "text/plain": [
       "Dropdown(description='Select Analysis:', options=('Player Analysis', 'Team Analysis', 'Team Comparison'), valu…"
      ]
     },
     "metadata": {},
     "output_type": "display_data"
    },
    {
     "data": {
      "application/vnd.jupyter.widget-view+json": {
       "model_id": "32338ebb9c254d39821107f2c2e7ee14",
       "version_major": 2,
       "version_minor": 0
      },
      "text/plain": [
       "Dropdown(description='Select Role:', options=('Batters', 'Bowlers', 'Wicket Keepers'), value='Batters')"
      ]
     },
     "metadata": {},
     "output_type": "display_data"
    },
    {
     "data": {
      "application/vnd.jupyter.widget-view+json": {
       "model_id": "b49e8c9439f74598b64fb7c599b6dd47",
       "version_major": 2,
       "version_minor": 0
      },
      "text/plain": [
       "Button(description='Analyze', style=ButtonStyle())"
      ]
     },
     "metadata": {},
     "output_type": "display_data"
    },
    {
     "data": {
      "application/vnd.jupyter.widget-view+json": {
       "model_id": "64e950c15dbf45fa8d5ea7b098595cc7",
       "version_major": 2,
       "version_minor": 0
      },
      "text/plain": [
       "Output()"
      ]
     },
     "metadata": {},
     "output_type": "display_data"
    }
   ],
   "source": [
    "import pandas as pd\n",
    "import seaborn as sns\n",
    "import matplotlib.pyplot as plt\n",
    "import ipywidgets as widgets\n",
    "from IPython.display import display\n",
    "\n",
    "# Load both CSV files (ODI and T20)\n",
    "df_odi_batter = pd.read_csv(\"batsman data odi.csv\")\n",
    "df_t20_batter = pd.read_csv(\"batsman data t20i.csv\")\n",
    "df_odi_bowler = pd.read_csv(\"bowler data odi.csv\")\n",
    "df_t20_bowler = pd.read_csv(\"bowler data t20i.csv\")\n",
    "df_odi_wicketkeeper = pd.read_csv(\"wicketkeeper data odi.csv\")\n",
    "df_t20_wicketkeeper = pd.read_csv(\"wicketkeeper data t20i.csv\")\n",
    "\n",
    "# Data Cleaning\n",
    "def clean_data(df, numeric_columns):\n",
    "    for col in numeric_columns:\n",
    "        df[col] = pd.to_numeric(df[col], errors=\"coerce\")\n",
    "    return df.dropna(subset=numeric_columns)\n",
    "\n",
    "# Clean data for batters, bowlers, and wicketkeepers\n",
    "batter_numeric_columns = [\"Matches\", \"Played\", \"Runs\", \"Batting Average\", \"Balls Faced\", \"Strike Rate\"]\n",
    "bowler_numeric_columns = [\"Matches\", \"Played\", \"Overs\", \"Maiden Overs\", \"Runs\", \"Wickets\", \"Bowling Average\", \"Economy Rate\", \"Strike Rate\"]\n",
    "wicketkeeper_numeric_columns = [\"Matches\", \"Played\", \"Dismissals\", \"Catches\", \"Stumpings\"]\n",
    "\n",
    "df_odi_batter = clean_data(df_odi_batter, batter_numeric_columns)\n",
    "df_t20_batter = clean_data(df_t20_batter, batter_numeric_columns)\n",
    "df_odi_bowler = clean_data(df_odi_bowler, bowler_numeric_columns)\n",
    "df_t20_bowler = clean_data(df_t20_bowler, bowler_numeric_columns)\n",
    "df_odi_wicketkeeper = clean_data(df_odi_wicketkeeper, wicketkeeper_numeric_columns)\n",
    "df_t20_wicketkeeper = clean_data(df_t20_wicketkeeper, wicketkeeper_numeric_columns)\n",
    "\n",
    "# Output widget\n",
    "output = widgets.Output()\n",
    "\n",
    "# Function to handle the selection of format and analysis type\n",
    "def handle_analysis(format_selection, role_selection):\n",
    "    with output:\n",
    "        output.clear_output()  # Clear previous output\n",
    "        if format_selection == \"ODI\":\n",
    "            if role_selection == \"Batters\":\n",
    "                display(df_odi_batter.head())\n",
    "            elif role_selection == \"Bowlers\":\n",
    "                display(df_odi_bowler.head())\n",
    "            elif role_selection == \"Wicket Keepers\":\n",
    "                display(df_odi_wicketkeeper.head())\n",
    "        elif format_selection == \"T20\":\n",
    "            if role_selection == \"Batters\":\n",
    "                display(df_t20_batter.head())\n",
    "            elif role_selection == \"Bowlers\":\n",
    "                display(df_t20_bowler.head())\n",
    "            elif role_selection == \"Wicket Keepers\":\n",
    "                display(df_t20_wicketkeeper.head())\n",
    "\n",
    "# Dropdown for format selection (ODI/T20)\n",
    "format_dropdown = widgets.Dropdown(\n",
    "    options=['ODI', 'T20'],\n",
    "    description='Select Format:',\n",
    ")\n",
    "\n",
    "# Dropdown for analysis type selection (Player, Team, etc.)\n",
    "analysis_dropdown = widgets.Dropdown(\n",
    "    options=['Player Analysis', 'Team Analysis', 'Team Comparison'],\n",
    "    description='Select Analysis:',\n",
    ")\n",
    "\n",
    "# Dropdown for player role (Batters, Bowlers, Wicket Keepers) in player analysis\n",
    "role_dropdown = widgets.Dropdown(\n",
    "    options=['Batters', 'Bowlers', 'Wicket Keepers'],\n",
    "    description='Select Role:',\n",
    ")\n",
    "\n",
    "# Button to perform analysis based on the selection\n",
    "analyze_button = widgets.Button(description=\"Analyze\")\n",
    "\n",
    "# Function to handle button click\n",
    "def on_analyze_button_clicked(b):\n",
    "    handle_analysis(format_dropdown.value, role_dropdown.value)\n",
    "\n",
    "# Link button to function\n",
    "analyze_button.on_click(on_analyze_button_clicked)\n",
    "\n",
    "# Display the widgets\n",
    "display(format_dropdown)\n",
    "display(analysis_dropdown)\n",
    "display(role_dropdown)\n",
    "display(analyze_button)\n",
    "display(output)\n"
   ]
  },
  {
   "cell_type": "code",
   "execution_count": 4,
   "id": "b87908a3-7988-49a4-9e9c-0e4a95086858",
   "metadata": {},
   "outputs": [
    {
     "data": {
      "application/vnd.jupyter.widget-view+json": {
       "model_id": "b3d66f814549448d9d406c02b40a835e",
       "version_major": 2,
       "version_minor": 0
      },
      "text/plain": [
       "Dropdown(description='Select Format:', options=('ODI', 'T20'), value='ODI')"
      ]
     },
     "metadata": {},
     "output_type": "display_data"
    },
    {
     "data": {
      "application/vnd.jupyter.widget-view+json": {
       "model_id": "bb333c5cff654ea3af611c3ccda77bf3",
       "version_major": 2,
       "version_minor": 0
      },
      "text/plain": [
       "Dropdown(description='Select Player Type:', options=('Batters', 'Bowlers', 'Wicket Keepers'), value='Batters')"
      ]
     },
     "metadata": {},
     "output_type": "display_data"
    },
    {
     "data": {
      "application/vnd.jupyter.widget-view+json": {
       "model_id": "116d543a5044440b967cd52a012ecf0a",
       "version_major": 2,
       "version_minor": 0
      },
      "text/plain": [
       "Dropdown(description='Batters Criteria:', layout=Layout(display='block'), options=('Runs', 'Batting Average', …"
      ]
     },
     "metadata": {},
     "output_type": "display_data"
    },
    {
     "data": {
      "application/vnd.jupyter.widget-view+json": {
       "model_id": "cc775f9d44d74b6eab64d7fea697e564",
       "version_major": 2,
       "version_minor": 0
      },
      "text/plain": [
       "Dropdown(description='Bowlers Criteria:', layout=Layout(display='none'), options=('Wickets', 'Bowling Average'…"
      ]
     },
     "metadata": {},
     "output_type": "display_data"
    },
    {
     "data": {
      "application/vnd.jupyter.widget-view+json": {
       "model_id": "372843aec2114f71891d6cf09c7492ac",
       "version_major": 2,
       "version_minor": 0
      },
      "text/plain": [
       "Dropdown(description='Wicket Keepers Criteria:', layout=Layout(display='none'), options=('Dismissals', 'Catche…"
      ]
     },
     "metadata": {},
     "output_type": "display_data"
    },
    {
     "data": {
      "application/vnd.jupyter.widget-view+json": {
       "model_id": "d64d2da8060443648f5a0b1249b1647b",
       "version_major": 2,
       "version_minor": 0
      },
      "text/plain": [
       "Button(description='Display Top Players', style=ButtonStyle())"
      ]
     },
     "metadata": {},
     "output_type": "display_data"
    },
    {
     "data": {
      "application/vnd.jupyter.widget-view+json": {
       "model_id": "d0b3e73878b54c438443b277ae7a84c4",
       "version_major": 2,
       "version_minor": 0
      },
      "text/plain": [
       "Button(description='Plot Graph', style=ButtonStyle())"
      ]
     },
     "metadata": {},
     "output_type": "display_data"
    },
    {
     "data": {
      "application/vnd.jupyter.widget-view+json": {
       "model_id": "38a3e6b8ca624468a8c9fad90500a5d7",
       "version_major": 2,
       "version_minor": 0
      },
      "text/plain": [
       "Output()"
      ]
     },
     "metadata": {},
     "output_type": "display_data"
    }
   ],
   "source": [
    "import pandas as pd\n",
    "import seaborn as sns\n",
    "import matplotlib.pyplot as plt\n",
    "import ipywidgets as widgets\n",
    "from IPython.display import display\n",
    "\n",
    "# Load both CSV files (ODI and T20)\n",
    "df_odi_batter = pd.read_csv(\"batsman data odi.csv\")\n",
    "df_t20_batter = pd.read_csv(\"batsman data t20i.csv\")\n",
    "df_odi_bowler = pd.read_csv(\"bowler data odi.csv\")\n",
    "df_t20_bowler = pd.read_csv(\"bowler data t20i.csv\")\n",
    "df_odi_wicketkeeper = pd.read_csv(\"wicketkeeper data odi.csv\")\n",
    "df_t20_wicketkeeper = pd.read_csv(\"wicketkeeper data t20i.csv\")\n",
    "\n",
    "# Data Cleaning\n",
    "def clean_data(df, numeric_columns):\n",
    "    for col in numeric_columns:\n",
    "        df[col] = pd.to_numeric(df[col], errors=\"coerce\")\n",
    "    return df.dropna(subset=numeric_columns)\n",
    "\n",
    "# Clean data for batters, bowlers, and wicketkeepers\n",
    "batter_numeric_columns = [\"Matches\", \"Played\", \"Runs\", \"Batting Average\", \"Balls Faced\", \"Strike Rate\"]\n",
    "bowler_numeric_columns = [\"Matches\", \"Played\", \"Overs\", \"Maiden Overs\", \"Runs\", \"Wickets\", \"Bowling Average\", \"Economy Rate\", \"Strike Rate\"]\n",
    "wicketkeeper_numeric_columns = [\"Matches\", \"Played\", \"Dismissals\", \"Catches\", \"Stumpings\"]\n",
    "\n",
    "df_odi_batter = clean_data(df_odi_batter, batter_numeric_columns)\n",
    "df_t20_batter = clean_data(df_t20_batter, batter_numeric_columns)\n",
    "df_odi_bowler = clean_data(df_odi_bowler, bowler_numeric_columns)\n",
    "df_t20_bowler = clean_data(df_t20_bowler, bowler_numeric_columns)\n",
    "df_odi_wicketkeeper = clean_data(df_odi_wicketkeeper, wicketkeeper_numeric_columns)\n",
    "df_t20_wicketkeeper = clean_data(df_t20_wicketkeeper, wicketkeeper_numeric_columns)\n",
    "\n",
    "# Output widget\n",
    "output = widgets.Output()\n",
    "\n",
    "# Function to display top players based on selected criteria for Batters\n",
    "def display_top_players(criteria, player_type, min_matches=0):\n",
    "    with output:\n",
    "        output.clear_output()  # Clear previous output\n",
    "        \n",
    "        if player_type == 'Batters':\n",
    "            df_cleaned = df_odi_batter if format_dropdown.value == 'ODI' else df_t20_batter\n",
    "            if criteria == 'Runs':\n",
    "                top_players = df_cleaned[df_cleaned[\"Matches\"] >= min_matches].nlargest(10, \"Runs\")[[\"Player Name\", \"Country\", \"Runs\", \"Batting Average\", \"Strike Rate\"]]\n",
    "            elif criteria == 'Batting Average':\n",
    "                top_players = df_cleaned[df_cleaned[\"Matches\"] >= min_matches].nlargest(10, \"Batting Average\")[[\"Player Name\", \"Country\", \"Batting Average\", \"Matches\"]]\n",
    "            elif criteria == 'Strike Rate':\n",
    "                top_players = df_cleaned[df_cleaned[\"Matches\"] >= min_matches].nlargest(10, \"Strike Rate\")[[\"Player Name\", \"Country\", \"Strike Rate\", \"Runs\"]]\n",
    "            \n",
    "            print(f\"\\nTop 10 Batters by {criteria}:\")\n",
    "            print(top_players)\n",
    "        \n",
    "        elif player_type == 'Bowlers':\n",
    "            df_cleaned = df_odi_bowler if format_dropdown.value == 'ODI' else df_t20_bowler\n",
    "            if criteria == 'Wickets':\n",
    "                top_players = df_cleaned[df_cleaned[\"Matches\"] >= min_matches].nlargest(10, \"Wickets\")[[\"Player Name\", \"Country\", \"Wickets\", \"Best Figure\", \"Bowling Average\"]]\n",
    "            elif criteria == 'Bowling Average':\n",
    "                top_players = df_cleaned[df_cleaned[\"Matches\"] >= min_matches].nlargest(10, \"Bowling Average\")[[\"Player Name\", \"Country\", \"Bowling Average\", \"Matches\"]]\n",
    "            elif criteria == 'Economy Rate':\n",
    "                top_players = df_cleaned[df_cleaned[\"Matches\"] >= min_matches].nsmallest(10, \"Economy Rate\")[[\"Player Name\", \"Country\", \"Economy Rate\", \"Wickets\"]]\n",
    "            print(f\"\\nTop 10 Batters by {criteria}:\")\n",
    "            print(top_players)    \n",
    "            # Add bowler analysis logic here based on criteria selectio        \n",
    "        elif player_type == 'Wicket Keepers':\n",
    "            df_cleaned = df_odi_wicket_keeper if format_dropdown.value == 'ODI' else df_t20_wicket_keeper\n",
    "            if criteria == 'Dismissals':\n",
    "                top_players = df_cleaned[df_cleaned[\"Matches\"] >= min_matches].nlargest(10, \"Dismissals\")[[\"Player Name\", \"Country\", \"Dismissals\", \"Catches\", \"Stumpings\"]]\n",
    "            elif criteria == 'Catches':\n",
    "                top_players = df_cleaned[df_cleaned[\"Matches\"] >= min_matches].nlargest(10, \"Catches\")[[\"Player Name\", \"Country\", \"Catches\", \"Dismissals\", \"Stumpings\"]]\n",
    "            elif criteria == 'Stumpings':\n",
    "                top_players = df_cleaned[df_cleaned[\"Matches\"] >= min_matches].nlargest(10, \"Stumpings\")[[\"Player Name\", \"Country\", \"Stumpings\", \"Dismissals\", \"Catches\"]]\n",
    "            print(f\"\\nTop 10 Batters by {criteria}:\")\n",
    "            print(top_players)# Function to plot graphs based on selected criteria\n",
    "# Function to plot graphs based on selected criteria\n",
    "def plot_graph(criteria, player_type):\n",
    "    with output:\n",
    "        output.clear_output()  # Clear previous output\n",
    "        plt.figure(figsize=(10, 6))\n",
    "        \n",
    "        if player_type == 'Batters':\n",
    "            df_cleaned = df_odi_batter if format_dropdown.value == 'ODI' else df_t20_batter\n",
    "            if criteria == 'Runs':\n",
    "                top_run_scorers = df_cleaned.nlargest(10, \"Runs\")[[\"Player Name\", \"Runs\"]]\n",
    "                sns.barplot(x=\"Runs\", y=\"Player Name\", data=top_run_scorers, palette=\"Blues_d\")\n",
    "                plt.title(\"Top 10 Batters by Runs\")\n",
    "                plt.xlabel(\"Runs\")\n",
    "                plt.ylabel(\"Player Name\")\n",
    "            elif criteria == 'Strike Rate vs Runs':\n",
    "                sns.scatterplot(x=\"Runs\", y=\"Strike Rate\", data=df_cleaned, hue=\"Country\", palette=\"Set1\")\n",
    "                plt.title(\"Strike Rate vs Runs\")\n",
    "                plt.xlabel(\"Runs\")\n",
    "                plt.ylabel(\"Strike Rate\")\n",
    "            elif criteria == 'Distribution of Batting Averages':\n",
    "                sns.boxplot(data=df_cleaned[\"Batting Average\"], palette=\"Set2\")\n",
    "                plt.title(\"Distribution of Batting Averages\")\n",
    "        \n",
    "        elif player_type == 'Bowlers':\n",
    "            df_cleaned = df_odi_bowler if format_dropdown.value == 'ODI' else df_t20_bowler\n",
    "            if criteria == 'Wickets':\n",
    "                top_wicket_takers = df_cleaned.nlargest(10, \"Wickets\")[[\"Player Name\", \"Wickets\"]]\n",
    "                sns.barplot(x=\"Wickets\", y=\"Player Name\", data=top_wicket_takers, palette=\"Greens_d\")\n",
    "                plt.title(\"Top 10 Bowlers by Wickets\")\n",
    "                plt.xlabel(\"Wickets\")\n",
    "                plt.ylabel(\"Player Name\")\n",
    "            elif criteria == 'Economy Rate vs Wickets':\n",
    "                sns.scatterplot(x=\"Wickets\", y=\"Economy Rate\", data=df_cleaned, hue=\"Country\", palette=\"Set2\")\n",
    "                plt.title(\"Economy Rate vs Wickets\")\n",
    "                plt.xlabel(\"Wickets\")\n",
    "                plt.ylabel(\"Economy Rate\")\n",
    "        \n",
    "        elif player_type == 'Wicket Keepers':\n",
    "            df_cleaned = df_odi_wicketkeeper if format_dropdown.value == 'ODI' else df_t20_wicketkeeper\n",
    "            if criteria == 'Dismissals':\n",
    "                top_wicketkeepers = df_cleaned.nlargest(10, \"Dismissals\")[[\"Player Name\", \"Dismissals\"]]\n",
    "                sns.barplot(x=\"Dismissals\", y=\"Player Name\", data=top_wicketkeepers, palette=\"Oranges_d\")\n",
    "                plt.title(\"Top 10 Wicket Keepers by Dismissals\")\n",
    "                plt.xlabel(\"Dismissals\")\n",
    "                plt.ylabel(\"Player Name\")\n",
    "            elif criteria == 'Catches vs Stumpings':\n",
    "                sns.scatterplot(x=\"Catches\", y=\"Stumpings\", data=df_cleaned, hue=\"Country\", palette=\"Set3\")\n",
    "                plt.title(\"Catches vs Stumpings\")\n",
    "                plt.xlabel(\"Catches\")\n",
    "                plt.ylabel(\"Stumpings\")\n",
    "\n",
    "        plt.tight_layout()  # Adjust layout to fit everything\n",
    "        plt.show()\n",
    "\n",
    "\n",
    "# Create dropdowns for format and player type\n",
    "format_dropdown = widgets.Dropdown(\n",
    "    options=['ODI', 'T20'],\n",
    "    description='Select Format:',\n",
    ")\n",
    "\n",
    "player_type_dropdown = widgets.Dropdown(\n",
    "    options=['Batters', 'Bowlers', 'Wicket Keepers'],\n",
    "    description='Select Player Type:',\n",
    ")\n",
    "\n",
    "# Create dropdowns for criteria based on player type\n",
    "batters_criteria_dropdown = widgets.Dropdown(\n",
    "    options=['Runs', 'Batting Average', 'Strike Rate'],\n",
    "    description='Batters Criteria:',\n",
    ")\n",
    "\n",
    "bowlers_criteria_dropdown = widgets.Dropdown(\n",
    "    options=['Wickets', 'Bowling Average', 'Economy Rate'],\n",
    "    description='Bowlers Criteria:',\n",
    ")\n",
    "\n",
    "wicket_keepers_criteria_dropdown = widgets.Dropdown(\n",
    "    options=['Dismissals', 'Catches', 'Stumpings'],\n",
    "    description='Wicket Keepers Criteria:',\n",
    ")\n",
    "\n",
    "# Function to update criteria dropdown based on player type selection\n",
    "def update_criteria_dropdown(*args):\n",
    "    if player_type_dropdown.value == 'Batters':\n",
    "        batters_criteria_dropdown.layout.display = 'block'\n",
    "        bowlers_criteria_dropdown.layout.display = 'none'\n",
    "        wicket_keepers_criteria_dropdown.layout.display = 'none'\n",
    "    elif player_type_dropdown.value == 'Bowlers':\n",
    "        batters_criteria_dropdown.layout.display = 'none'\n",
    "        bowlers_criteria_dropdown.layout.display = 'block'\n",
    "        wicket_keepers_criteria_dropdown.layout.display = 'none'\n",
    "    elif player_type_dropdown.value == 'Wicket Keepers':\n",
    "        batters_criteria_dropdown.layout.display = 'none'\n",
    "        bowlers_criteria_dropdown.layout.display = 'none'\n",
    "        wicket_keepers_criteria_dropdown.layout.display = 'block'\n",
    "\n",
    "# Set the event listener for player type dropdown change\n",
    "player_type_dropdown.observe(update_criteria_dropdown, names='value')\n",
    "\n",
    "# Initialize dropdown display states\n",
    "update_criteria_dropdown()\n",
    "\n",
    "# Create buttons to trigger actions\n",
    "display_button = widgets.Button(description=\"Display Top Players\")\n",
    "plot_button = widgets.Button(description=\"Plot Graph\")\n",
    "\n",
    "# Define button click events\n",
    "def on_display_button_clicked(b):\n",
    "    if player_type_dropdown.value == 'Batters':\n",
    "        display_top_players(batters_criteria_dropdown.value, 'Batters')\n",
    "    elif player_type_dropdown.value == 'Bowlers':\n",
    "        display_top_players(bowlers_criteria_dropdown.value, 'Bowlers')\n",
    "    elif player_type_dropdown.value == 'Wicket Keepers':\n",
    "        display_top_players(wicket_keepers_criteria_dropdown.value, 'Wicket Keepers')\n",
    "\n",
    "def on_plot_button_clicked(b):\n",
    "    if player_type_dropdown.value == 'Batters':\n",
    "        plot_graph(batters_criteria_dropdown.value, 'Batters')\n",
    "    elif player_type_dropdown.value == 'Bowlers':\n",
    "        plot_graph(bowlers_criteria_dropdown.value, 'Bowlers')\n",
    "    elif player_type_dropdown.value == 'Wicket Keepers':\n",
    "        plot_graph(wicket_keepers_criteria_dropdown.value, 'Wicket Keepers')\n",
    "\n",
    "# Link buttons to their functions\n",
    "display_button.on_click(on_display_button_clicked)\n",
    "plot_button.on_click(on_plot_button_clicked)\n",
    "\n",
    "# Display the widgets and output area\n",
    "display(format_dropdown, player_type_dropdown, batters_criteria_dropdown, bowlers_criteria_dropdown, wicket_keepers_criteria_dropdown)\n",
    "display(display_button, plot_button)\n",
    "display(output)  # Display the output area\n"
   ]
  },
  {
   "cell_type": "code",
   "execution_count": 5,
   "id": "653c37d5-0343-451d-99e5-9713afa64478",
   "metadata": {},
   "outputs": [
    {
     "data": {
      "application/vnd.jupyter.widget-view+json": {
       "model_id": "62580311137c49e4b76ec21305c9a5cd",
       "version_major": 2,
       "version_minor": 0
      },
      "text/plain": [
       "Dropdown(description='Team:', options=('Pakistan', 'Sri Lanka', 'India', 'Bangladesh', 'Hong Kong', 'UAE', 'Af…"
      ]
     },
     "metadata": {},
     "output_type": "display_data"
    },
    {
     "data": {
      "application/vnd.jupyter.widget-view+json": {
       "model_id": "fd6a643829f84b4bbf527d014e51746d",
       "version_major": 2,
       "version_minor": 0
      },
      "text/plain": [
       "Dropdown(description='Opponent:', options=('Sri Lanka', 'Pakistan', 'India', 'Bangladesh', 'Hong Kong', 'UAE',…"
      ]
     },
     "metadata": {},
     "output_type": "display_data"
    },
    {
     "data": {
      "application/vnd.jupyter.widget-view+json": {
       "model_id": "9d96223189794b43a711c9a7293c93a2",
       "version_major": 2,
       "version_minor": 0
      },
      "text/plain": [
       "Dropdown(description='Format:', options=('ODI', 'T20I'), value='ODI')"
      ]
     },
     "metadata": {},
     "output_type": "display_data"
    },
    {
     "data": {
      "application/vnd.jupyter.widget-view+json": {
       "model_id": "567b1e85e8e74577a2bf4e13aa3843dc",
       "version_major": 2,
       "version_minor": 0
      },
      "text/plain": [
       "IntSlider(value=1984, continuous_update=False, description='Year:', max=2022, min=1984)"
      ]
     },
     "metadata": {},
     "output_type": "display_data"
    },
    {
     "data": {
      "application/vnd.jupyter.widget-view+json": {
       "model_id": "48eb5331f8294a6381e2418648df813e",
       "version_major": 2,
       "version_minor": 0
      },
      "text/plain": [
       "Dropdown(description='Criteria:', options=('Run Scored', 'Wicket Lost', 'Fours', 'Sixes', 'Extras', 'Run Rate'…"
      ]
     },
     "metadata": {},
     "output_type": "display_data"
    },
    {
     "data": {
      "application/vnd.jupyter.widget-view+json": {
       "model_id": "3fcd9d0d5a4a42cbbbb7fa92794b7a62",
       "version_major": 2,
       "version_minor": 0
      },
      "text/plain": [
       "Button(description='Analyze', style=ButtonStyle())"
      ]
     },
     "metadata": {},
     "output_type": "display_data"
    },
    {
     "data": {
      "application/vnd.jupyter.widget-view+json": {
       "model_id": "def1d40ba6e24369b456f52d9464fa1d",
       "version_major": 2,
       "version_minor": 0
      },
      "text/plain": [
       "Output()"
      ]
     },
     "metadata": {},
     "output_type": "display_data"
    }
   ],
   "source": [
    "import pandas as pd\n",
    "import ipywidgets as widgets\n",
    "import matplotlib.pyplot as plt\n",
    "from IPython.display import display, clear_output\n",
    "\n",
    "# Load the CSV file\n",
    "df_team_analysis = pd.read_csv('asiacup.csv')\n",
    "\n",
    "# Create Dropdowns for Analysis\n",
    "team_dropdown = widgets.Dropdown(\n",
    "    options=df_team_analysis['Team'].unique(),\n",
    "    description='Team:'\n",
    ")\n",
    "\n",
    "opponent_dropdown = widgets.Dropdown(\n",
    "    options=df_team_analysis['Opponent'].unique(),\n",
    "    description='Opponent:'\n",
    ")\n",
    "\n",
    "format_dropdown = widgets.Dropdown(\n",
    "    options=df_team_analysis['Format'].unique(),\n",
    "    description='Format:'\n",
    ")\n",
    "\n",
    "year_slider = widgets.IntSlider(\n",
    "    value=df_team_analysis['Year'].min(),\n",
    "    min=df_team_analysis['Year'].min(),\n",
    "    max=df_team_analysis['Year'].max(),\n",
    "    step=1,\n",
    "    description='Year:',\n",
    "    continuous_update=False\n",
    ")\n",
    "\n",
    "criteria_dropdown = widgets.Dropdown(\n",
    "    options=['Run Scored', 'Wicket Lost', 'Fours', 'Sixes', 'Extras', 'Run Rate', 'Avg Bat', 'Strike Rate', 'Highest Score', 'Wicket Taken', 'Given Extras', 'Highest Individual wicket', 'Player Of The Match', 'Result'],\n",
    "    description='Criteria:'\n",
    ")\n",
    "\n",
    "# Button to Trigger the Analysis\n",
    "analyze_button = widgets.Button(description=\"Analyze\")\n",
    "\n",
    "# Output area\n",
    "output = widgets.Output()\n",
    "\n",
    "# Function to Display Team Analysis and Visualization\n",
    "def display_team_analysis(team, opponent, format_type, year, criteria):\n",
    "    with output:\n",
    "        clear_output()  # Clears the previous output\n",
    "        filtered_df = df_team_analysis[\n",
    "            (df_team_analysis['Team'] == team) &\n",
    "            (df_team_analysis['Opponent'] == opponent) &\n",
    "            (df_team_analysis['Format'] == format_type) &\n",
    "            (df_team_analysis['Year'] == year)\n",
    "        ]\n",
    "        \n",
    "        if not filtered_df.empty:\n",
    "            print(f\"\\nTeam Analysis for {team} vs {opponent} in {format_type} ({year}):\\n\")\n",
    "            print(filtered_df[['Team', 'Opponent', 'Ground', criteria]])\n",
    "            print(f\"\\nTop {criteria}: {filtered_df[criteria].values[0]}\")\n",
    "            \n",
    "            # Plotting the selected criteria as a bar chart\n",
    "            plt.figure(figsize=(8, 5))\n",
    "            plt.bar(filtered_df['Ground'], filtered_df[criteria], color='skyblue')\n",
    "            plt.title(f'{criteria} for {team} vs {opponent} in {format_type} ({year})')\n",
    "            plt.xlabel('Ground')\n",
    "            plt.ylabel(criteria)\n",
    "            plt.xticks(rotation=45)\n",
    "            plt.tight_layout()\n",
    "            plt.show()\n",
    "        else:\n",
    "            print(\"No data found for the selected options.\")\n",
    "\n",
    "# Event Handler for Analyze Button\n",
    "def on_analyze_button_clicked(b):\n",
    "    display_team_analysis(team_dropdown.value, opponent_dropdown.value, format_dropdown.value, year_slider.value, criteria_dropdown.value)\n",
    "\n",
    "# Attach Event\n",
    "analyze_button.on_click(on_analyze_button_clicked)\n",
    "\n",
    "# Display Widgets and Output\n",
    "display(team_dropdown, opponent_dropdown, format_dropdown, year_slider, criteria_dropdown, analyze_button, output)\n"
   ]
  },
  {
   "cell_type": "code",
   "execution_count": null,
   "id": "f1ad799f-5956-405e-bc10-d05d14cedbbb",
   "metadata": {},
   "outputs": [],
   "source": []
  }
 ],
 "metadata": {
  "kernelspec": {
   "display_name": "Python 3 (ipykernel)",
   "language": "python",
   "name": "python3"
  },
  "language_info": {
   "codemirror_mode": {
    "name": "ipython",
    "version": 3
   },
   "file_extension": ".py",
   "mimetype": "text/x-python",
   "name": "python",
   "nbconvert_exporter": "python",
   "pygments_lexer": "ipython3",
   "version": "3.13.0"
  }
 },
 "nbformat": 4,
 "nbformat_minor": 5
}
